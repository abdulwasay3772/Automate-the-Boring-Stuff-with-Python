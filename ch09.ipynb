{
  "cells": [
    {
      "cell_type": "markdown",
      "metadata": {
        "id": "bcdNmxP9qqhv"
      },
      "source": [
        "# **Chapter No 09**"
      ]
    },
    {
      "cell_type": "markdown",
      "metadata": {
        "id": "F922R6loqx5g"
      },
      "source": [
        "### **The shutil Module**"
      ]
    },
    {
      "cell_type": "markdown",
      "metadata": {
        "id": "49ipjIb3rs8d"
      },
      "source": [
        "The shutil (or shell utilities) module has functions to let you copy, move,\n",
        "rename, and delete files in your Python programs. To use the shutil functions,\n",
        "you will first need to use import shutil."
      ]
    },
    {
      "cell_type": "markdown",
      "metadata": {
        "id": "l1RNhMePr2h1"
      },
      "source": [
        "### **Copying Files and Folders**"
      ]
    },
    {
      "cell_type": "code",
      "execution_count": 1,
      "metadata": {
        "id": "CRqYqvtdr7mA"
      },
      "outputs": [],
      "source": [
        "import shutil, os"
      ]
    },
    {
      "cell_type": "code",
      "source": [
        "os.makedirs('/content/Python/Notes')"
      ],
      "metadata": {
        "id": "_wFivm10zgXy"
      },
      "execution_count": 21,
      "outputs": []
    },
    {
      "cell_type": "code",
      "source": [
        "myfile=open('a.txt','x')"
      ],
      "metadata": {
        "id": "8_fenFyL0Y_P"
      },
      "execution_count": 22,
      "outputs": []
    },
    {
      "cell_type": "code",
      "source": [
        "os.chdir('/content/sample_data')"
      ],
      "metadata": {
        "id": "NX0_wtV71eJV"
      },
      "execution_count": 24,
      "outputs": []
    },
    {
      "cell_type": "code",
      "source": [
        "shutil.copy('/content/Python/Notes/a.txt', '/content/sample_data')"
      ],
      "metadata": {
        "colab": {
          "base_uri": "https://localhost:8080/",
          "height": 35
        },
        "id": "57QsOaxiKfrP",
        "outputId": "378dadc0-3a0d-484f-cab9-1682c844e726"
      },
      "execution_count": 25,
      "outputs": [
        {
          "output_type": "execute_result",
          "data": {
            "application/vnd.google.colaboratory.intrinsic+json": {
              "type": "string"
            },
            "text/plain": [
              "'/content/sample_data/a.txt'"
            ]
          },
          "metadata": {},
          "execution_count": 25
        }
      ]
    },
    {
      "cell_type": "code",
      "source": [
        "import shutil, os\n",
        "os.chdir('/content')\n",
        "shutil.copytree('/content/Python', '/content/Python_backup')"
      ],
      "metadata": {
        "colab": {
          "base_uri": "https://localhost:8080/",
          "height": 35
        },
        "id": "qmREZx-z1yMX",
        "outputId": "250153cd-81c1-4d23-f84b-6f0e393d4279"
      },
      "execution_count": 27,
      "outputs": [
        {
          "output_type": "execute_result",
          "data": {
            "application/vnd.google.colaboratory.intrinsic+json": {
              "type": "string"
            },
            "text/plain": [
              "'/content/Python_backup'"
            ]
          },
          "metadata": {},
          "execution_count": 27
        }
      ]
    },
    {
      "cell_type": "markdown",
      "source": [
        "### **Moving and Renaming Files and Folders**"
      ],
      "metadata": {
        "id": "DUIH6-_v2QR0"
      }
    },
    {
      "cell_type": "code",
      "source": [
        "import shutil\n",
        "shutil.move('/content/Python/Notes/a.txt', '/content/Python')"
      ],
      "metadata": {
        "colab": {
          "base_uri": "https://localhost:8080/",
          "height": 35
        },
        "id": "iPx6tFv22TDB",
        "outputId": "fc9f77e6-c7be-4cca-ca5a-98c1b88d4a17"
      },
      "execution_count": 29,
      "outputs": [
        {
          "output_type": "execute_result",
          "data": {
            "application/vnd.google.colaboratory.intrinsic+json": {
              "type": "string"
            },
            "text/plain": [
              "'/content/Python/a.txt'"
            ]
          },
          "metadata": {},
          "execution_count": 29
        }
      ]
    },
    {
      "cell_type": "code",
      "source": [
        "shutil.move('/content/Python/a.txt', '/content/Python/Notes')"
      ],
      "metadata": {
        "colab": {
          "base_uri": "https://localhost:8080/",
          "height": 35
        },
        "id": "fsLxaWD72teS",
        "outputId": "1f1a01a3-c8d9-456b-965c-5bcd854342dc"
      },
      "execution_count": 32,
      "outputs": [
        {
          "output_type": "execute_result",
          "data": {
            "application/vnd.google.colaboratory.intrinsic+json": {
              "type": "string"
            },
            "text/plain": [
              "'/content/Python/Notes/a.txt'"
            ]
          },
          "metadata": {},
          "execution_count": 32
        }
      ]
    },
    {
      "cell_type": "markdown",
      "source": [
        "### **Permanently Deleting Files and Folders**"
      ],
      "metadata": {
        "id": "UIUUQ8Ra3WPG"
      }
    },
    {
      "cell_type": "code",
      "source": [
        "import os\n",
        "for filename in os.listdir():\n",
        "  if filename.endswith('.rxt'):\n",
        "    os.unlink(filename)"
      ],
      "metadata": {
        "id": "Vwl0-TL33V0h"
      },
      "execution_count": 33,
      "outputs": []
    },
    {
      "cell_type": "code",
      "source": [
        "import os\n",
        "for filename in os.listdir():\n",
        "  if filename.endswith('.rxt'):\n",
        "#os.unlink(filename)\n",
        "    print(filename)"
      ],
      "metadata": {
        "id": "DSc8JER_3ld9"
      },
      "execution_count": 34,
      "outputs": []
    },
    {
      "cell_type": "markdown",
      "source": [
        "### **Safe Deletes with the send2trash Module**"
      ],
      "metadata": {
        "id": "XFTTekAl3uMH"
      }
    },
    {
      "cell_type": "code",
      "source": [
        "import send2trash\n",
        "baconFile = open('bacon.txt', 'a') # creates the file\n",
        "baconFile.write('Bacon is not a vegetable.')"
      ],
      "metadata": {
        "colab": {
          "base_uri": "https://localhost:8080/"
        },
        "id": "JpOXY-2n3wcn",
        "outputId": "48b28e1c-79ea-4106-9d27-3916dd330fca"
      },
      "execution_count": 35,
      "outputs": [
        {
          "output_type": "execute_result",
          "data": {
            "text/plain": [
              "25"
            ]
          },
          "metadata": {},
          "execution_count": 35
        }
      ]
    },
    {
      "cell_type": "code",
      "source": [
        "baconFile.close()\n",
        "send2trash.send2trash('bacon.txt')"
      ],
      "metadata": {
        "id": "23-dcrWE32aF"
      },
      "execution_count": 36,
      "outputs": []
    },
    {
      "cell_type": "markdown",
      "source": [
        "### **Walking a Directory Tree**"
      ],
      "metadata": {
        "id": "haF3gAs53-HU"
      }
    },
    {
      "cell_type": "code",
      "source": [
        "import os\n",
        "for folderName, subfolders, filenames in os.walk('/content'):\n",
        "  print('The current folder is ' + folderName)\n",
        "  for subfolder in subfolders:\n",
        "    print('SUBFOLDER OF ' + folderName + ': ' + subfolder)\n",
        "for filename in filenames:\n",
        "  print('FILE INSIDE ' + folderName + ': '+ filename)\n",
        "  print('')"
      ],
      "metadata": {
        "colab": {
          "base_uri": "https://localhost:8080/"
        },
        "id": "5iIPuDp04ByD",
        "outputId": "c96bbbd3-d52b-450a-88b0-91ab0e453b86"
      },
      "execution_count": 37,
      "outputs": [
        {
          "output_type": "stream",
          "name": "stdout",
          "text": [
            "The current folder is /content\n",
            "SUBFOLDER OF /content: .config\n",
            "SUBFOLDER OF /content: .ipynb_checkpoints\n",
            "SUBFOLDER OF /content: Python\n",
            "SUBFOLDER OF /content: Python_backup\n",
            "SUBFOLDER OF /content: sample_data\n",
            "The current folder is /content/.config\n",
            "SUBFOLDER OF /content/.config: configurations\n",
            "SUBFOLDER OF /content/.config: logs\n",
            "The current folder is /content/.config/configurations\n",
            "The current folder is /content/.config/logs\n",
            "SUBFOLDER OF /content/.config/logs: 2022.01.07\n",
            "The current folder is /content/.config/logs/2022.01.07\n",
            "The current folder is /content/.ipynb_checkpoints\n",
            "The current folder is /content/Python\n",
            "SUBFOLDER OF /content/Python: Notes\n",
            "The current folder is /content/Python/Notes\n",
            "The current folder is /content/Python_backup\n",
            "SUBFOLDER OF /content/Python_backup: Notes\n",
            "The current folder is /content/Python_backup/Notes\n",
            "The current folder is /content/sample_data\n",
            "SUBFOLDER OF /content/sample_data: .ipynb_checkpoints\n",
            "The current folder is /content/sample_data/.ipynb_checkpoints\n"
          ]
        }
      ]
    },
    {
      "cell_type": "code",
      "source": [
        "import os\n",
        "for folderName, subfolders, filenames in os.walk('/content/Python'):\n",
        "  print('The current folder is ' + folderName)\n",
        "  for subfolder in subfolders:\n",
        "    print('SUBFOLDER OF ' + folderName + ': ' + subfolder)\n",
        "for filename in filenames:\n",
        "  print('FILE INSIDE ' + folderName + ': '+ filename)\n",
        "  print('')"
      ],
      "metadata": {
        "colab": {
          "base_uri": "https://localhost:8080/"
        },
        "id": "QDWhO22H4YFw",
        "outputId": "2106bbde-6c33-4a9c-c5fb-2ee7d6227aac"
      },
      "execution_count": 38,
      "outputs": [
        {
          "output_type": "stream",
          "name": "stdout",
          "text": [
            "The current folder is /content/Python\n",
            "SUBFOLDER OF /content/Python: Notes\n",
            "The current folder is /content/Python/Notes\n",
            "FILE INSIDE /content/Python/Notes: a.txt\n",
            "\n"
          ]
        }
      ]
    },
    {
      "cell_type": "markdown",
      "source": [
        "### **Compressing Files with the zipfile Module**"
      ],
      "metadata": {
        "id": "4dJUcXug4agt"
      }
    },
    {
      "cell_type": "markdown",
      "source": [
        "Compressing a file reduces its size, which is useful when transferring it over the Internet"
      ],
      "metadata": {
        "id": "xv4PumBN4raX"
      }
    },
    {
      "cell_type": "markdown",
      "source": [
        "### **Reading ZIP Files**"
      ],
      "metadata": {
        "id": "6QcxDZmp4xMK"
      }
    },
    {
      "cell_type": "code",
      "source": [
        "import zipfile, os\n",
        "os.chdir('/content/Python/Notes') # move to the folder with example.zip\n",
        "exampleZip = zipfile.ZipFile('ch08.zip')\n",
        "exampleZip.namelist()"
      ],
      "metadata": {
        "colab": {
          "base_uri": "https://localhost:8080/"
        },
        "id": "HsDvwMwq4vMk",
        "outputId": "9083e301-6254-48ad-c631-412a079fc88d"
      },
      "execution_count": 63,
      "outputs": [
        {
          "output_type": "execute_result",
          "data": {
            "text/plain": [
              "['ch08.ipynb', 'Pythontricks.ipynb', 'spam.txt']"
            ]
          },
          "metadata": {},
          "execution_count": 63
        }
      ]
    },
    {
      "cell_type": "code",
      "source": [
        "spamInfo = exampleZip.getinfo('ch08.ipynb')\n",
        "spamInfo.file_size"
      ],
      "metadata": {
        "colab": {
          "base_uri": "https://localhost:8080/"
        },
        "id": "1sW29Lqr6v_a",
        "outputId": "b24d6e1d-2dbf-4a75-acd2-730d3ae36899"
      },
      "execution_count": 64,
      "outputs": [
        {
          "output_type": "execute_result",
          "data": {
            "text/plain": [
              "33717"
            ]
          },
          "metadata": {},
          "execution_count": 64
        }
      ]
    },
    {
      "cell_type": "code",
      "source": [
        "spamInfo.compress_size"
      ],
      "metadata": {
        "colab": {
          "base_uri": "https://localhost:8080/"
        },
        "id": "1D8ZITCB67cE",
        "outputId": "5829635a-704b-4a38-cb94-3bb576ab7f68"
      },
      "execution_count": 65,
      "outputs": [
        {
          "output_type": "execute_result",
          "data": {
            "text/plain": [
              "4954"
            ]
          },
          "metadata": {},
          "execution_count": 65
        }
      ]
    },
    {
      "cell_type": "code",
      "source": [
        "'Compressed file is %sx smaller!' % (round(spamInfo.file_size / spamInfo\n",
        ".compress_size, 2))"
      ],
      "metadata": {
        "colab": {
          "base_uri": "https://localhost:8080/",
          "height": 35
        },
        "id": "Blqa8_Jl6-qd",
        "outputId": "7c8a8b88-59ea-49d0-f767-4fd0c7506b94"
      },
      "execution_count": 66,
      "outputs": [
        {
          "output_type": "execute_result",
          "data": {
            "application/vnd.google.colaboratory.intrinsic+json": {
              "type": "string"
            },
            "text/plain": [
              "'Compressed file is 6.81x smaller!'"
            ]
          },
          "metadata": {},
          "execution_count": 66
        }
      ]
    },
    {
      "cell_type": "code",
      "source": [
        "exampleZip.close()"
      ],
      "metadata": {
        "id": "n4YJD_-F7C90"
      },
      "execution_count": 67,
      "outputs": []
    },
    {
      "cell_type": "markdown",
      "source": [
        "### **Extracting from ZIP Files**"
      ],
      "metadata": {
        "id": "LcsLlEFW7Kj6"
      }
    },
    {
      "cell_type": "code",
      "source": [
        "import zipfile, os\n",
        "os.chdir('/content/Python/Notes') # move to the folder with example.zip\n",
        "exampleZip = zipfile.ZipFile('ch08.zip')\n",
        "exampleZip.extractall()\n",
        "exampleZip.close()"
      ],
      "metadata": {
        "id": "ZoCyNx0k7NPG"
      },
      "execution_count": 68,
      "outputs": []
    },
    {
      "cell_type": "code",
      "source": [
        "import zipfile, os\n",
        "os.chdir('/content/Python/Notes') # move to the folder with example.zip\n",
        "exampleZip = zipfile.ZipFile('ch08.zip')"
      ],
      "metadata": {
        "id": "kFJBti-883lY"
      },
      "execution_count": 70,
      "outputs": []
    },
    {
      "cell_type": "code",
      "source": [
        "exampleZip.extract('spam.txt')"
      ],
      "metadata": {
        "colab": {
          "base_uri": "https://localhost:8080/",
          "height": 35
        },
        "id": "P-dYFm437hjP",
        "outputId": "23ffa327-6caa-476a-9893-e75a3f4e5d55"
      },
      "execution_count": 71,
      "outputs": [
        {
          "output_type": "execute_result",
          "data": {
            "application/vnd.google.colaboratory.intrinsic+json": {
              "type": "string"
            },
            "text/plain": [
              "'/content/Python/Notes/spam.txt'"
            ]
          },
          "metadata": {},
          "execution_count": 71
        }
      ]
    },
    {
      "cell_type": "code",
      "source": [
        "exampleZip.extract('spam.txt', 'some\\new\\folder')"
      ],
      "metadata": {
        "colab": {
          "base_uri": "https://localhost:8080/",
          "height": 35
        },
        "id": "VjfJ4Jmp8-lw",
        "outputId": "490ebc5a-4d53-4c57-8b8f-60be20c0014d"
      },
      "execution_count": 74,
      "outputs": [
        {
          "output_type": "execute_result",
          "data": {
            "application/vnd.google.colaboratory.intrinsic+json": {
              "type": "string"
            },
            "text/plain": [
              "'some\\new\\x0colder/spam.txt'"
            ]
          },
          "metadata": {},
          "execution_count": 74
        }
      ]
    },
    {
      "cell_type": "code",
      "source": [
        "exampleZip.close()"
      ],
      "metadata": {
        "id": "bA-4L7c-9amL"
      },
      "execution_count": 75,
      "outputs": []
    },
    {
      "cell_type": "markdown",
      "source": [
        "### **Creating and Adding to ZIP Files**"
      ],
      "metadata": {
        "id": "Ej6GH53_9dUK"
      }
    },
    {
      "cell_type": "code",
      "source": [
        "import zipfile\n",
        "newZip = zipfile.ZipFile('new.zip', 'w')\n",
        "newZip.write('spam.txt', compress_type=zipfile.ZIP_DEFLATED)\n",
        "newZip.close()"
      ],
      "metadata": {
        "id": "KONPVS2M9fYx"
      },
      "execution_count": 76,
      "outputs": []
    }
  ],
  "metadata": {
    "colab": {
      "collapsed_sections": [],
      "name": "ch09.ipynb",
      "provenance": []
    },
    "kernelspec": {
      "display_name": "Python 3",
      "name": "python3"
    },
    "language_info": {
      "name": "python"
    }
  },
  "nbformat": 4,
  "nbformat_minor": 0
}