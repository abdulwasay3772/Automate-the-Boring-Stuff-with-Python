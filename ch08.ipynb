{
  "nbformat": 4,
  "nbformat_minor": 0,
  "metadata": {
    "colab": {
      "name": "ch08.ipynb",
      "provenance": [],
      "collapsed_sections": []
    },
    "kernelspec": {
      "name": "python3",
      "display_name": "Python 3"
    },
    "language_info": {
      "name": "python"
    }
  },
  "cells": [
    {
      "cell_type": "markdown",
      "source": [
        "# **Chapter No 08**"
      ],
      "metadata": {
        "id": "yWYypaIRETQN"
      }
    },
    {
      "cell_type": "markdown",
      "source": [
        "### **Backslash on Windows**"
      ],
      "metadata": {
        "id": "NIpY8jRyHDUO"
      }
    },
    {
      "cell_type": "code",
      "source": [
        "import os\n",
        "os.path.join('usr', 'bin', 'spam')"
      ],
      "metadata": {
        "colab": {
          "base_uri": "https://localhost:8080/",
          "height": 35
        },
        "id": "emCc3hRXEaDb",
        "outputId": "fa4d9268-3f8d-4af0-b96d-984e08e71485"
      },
      "execution_count": 1,
      "outputs": [
        {
          "output_type": "execute_result",
          "data": {
            "application/vnd.google.colaboratory.intrinsic+json": {
              "type": "string"
            },
            "text/plain": [
              "'usr/bin/spam'"
            ]
          },
          "metadata": {},
          "execution_count": 1
        }
      ]
    },
    {
      "cell_type": "code",
      "source": [
        "myFiles = ['accounts.txt', 'details.csv', 'invite.docx']\n",
        "for filename in myFiles:\n",
        "  print(os.path.join('E:/Python', filename))"
      ],
      "metadata": {
        "colab": {
          "base_uri": "https://localhost:8080/"
        },
        "id": "U70GdvTIGQap",
        "outputId": "cc88e13f-672e-4843-8afa-6314a4855584"
      },
      "execution_count": 2,
      "outputs": [
        {
          "output_type": "stream",
          "name": "stdout",
          "text": [
            "E:/Python/accounts.txt\n",
            "E:/Python/details.csv\n",
            "E:/Python/invite.docx\n"
          ]
        }
      ]
    },
    {
      "cell_type": "markdown",
      "source": [
        "### **The Current Working Directory**"
      ],
      "metadata": {
        "id": "LmOjPzt3G7iY"
      }
    },
    {
      "cell_type": "code",
      "source": [
        "import os\n",
        "os.getcwd()"
      ],
      "metadata": {
        "colab": {
          "base_uri": "https://localhost:8080/",
          "height": 35
        },
        "id": "0BsxmERdG3Bh",
        "outputId": "1d9399e2-0709-46c1-83b7-0cd2f5d9edbf"
      },
      "execution_count": 3,
      "outputs": [
        {
          "output_type": "execute_result",
          "data": {
            "application/vnd.google.colaboratory.intrinsic+json": {
              "type": "string"
            },
            "text/plain": [
              "'/content'"
            ]
          },
          "metadata": {},
          "execution_count": 3
        }
      ]
    },
    {
      "cell_type": "code",
      "source": [
        "myfile=open('Python','x')"
      ],
      "metadata": {
        "id": "bkgR9CSoohqM"
      },
      "execution_count": 72,
      "outputs": []
    },
    {
      "cell_type": "code",
      "source": [
        "os.chdir('/content/sample_data')\n",
        "os.getcwd()"
      ],
      "metadata": {
        "colab": {
          "base_uri": "https://localhost:8080/",
          "height": 35
        },
        "id": "wBRo9Bd_fzx8",
        "outputId": "a8859baf-7f34-4803-dfbd-cfa8a2012be9"
      },
      "execution_count": 35,
      "outputs": [
        {
          "output_type": "execute_result",
          "data": {
            "application/vnd.google.colaboratory.intrinsic+json": {
              "type": "string"
            },
            "text/plain": [
              "'/content/sample_data'"
            ]
          },
          "metadata": {},
          "execution_count": 35
        }
      ]
    },
    {
      "cell_type": "code",
      "source": [
        "os.chdir('ThisFolderDoesNotExist')"
      ],
      "metadata": {
        "colab": {
          "base_uri": "https://localhost:8080/",
          "height": 165
        },
        "id": "32V2hzz2LsOT",
        "outputId": "9a40e9a4-dc40-4085-e59c-16fac616fde7"
      },
      "execution_count": 37,
      "outputs": [
        {
          "output_type": "error",
          "ename": "FileNotFoundError",
          "evalue": "ignored",
          "traceback": [
            "\u001b[0;31m---------------------------------------------------------------------------\u001b[0m",
            "\u001b[0;31mFileNotFoundError\u001b[0m                         Traceback (most recent call last)",
            "\u001b[0;32m<ipython-input-37-8a44bf1dd46e>\u001b[0m in \u001b[0;36m<module>\u001b[0;34m()\u001b[0m\n\u001b[0;32m----> 1\u001b[0;31m \u001b[0mos\u001b[0m\u001b[0;34m.\u001b[0m\u001b[0mchdir\u001b[0m\u001b[0;34m(\u001b[0m\u001b[0;34m'ThisFolderDoesNotExist'\u001b[0m\u001b[0;34m)\u001b[0m\u001b[0;34m\u001b[0m\u001b[0;34m\u001b[0m\u001b[0m\n\u001b[0m",
            "\u001b[0;31mFileNotFoundError\u001b[0m: [Errno 2] No such file or directory: 'ThisFolderDoesNotExist'"
          ]
        }
      ]
    },
    {
      "cell_type": "markdown",
      "source": [
        "### **Creating New Folders with os.makedirs()**"
      ],
      "metadata": {
        "id": "FLQwr4ygLxIP"
      }
    },
    {
      "cell_type": "code",
      "source": [
        "import os\n",
        "os.makedirs('/content/new/movies')"
      ],
      "metadata": {
        "id": "JORX5ewMMRUR"
      },
      "execution_count": 39,
      "outputs": []
    },
    {
      "cell_type": "code",
      "source": [
        "import os\n",
        "os.makedirs('/content/python/Books')"
      ],
      "metadata": {
        "id": "mkC_kGXGrkHn"
      },
      "execution_count": 54,
      "outputs": []
    },
    {
      "cell_type": "code",
      "source": [
        "import os\n",
        "os.makedirs('/content/python/Books/Notes')"
      ],
      "metadata": {
        "id": "fvBj5HpAsFcp"
      },
      "execution_count": 57,
      "outputs": []
    },
    {
      "cell_type": "markdown",
      "source": [
        "### **Handling Absolute and Relative Paths**"
      ],
      "metadata": {
        "id": "AljEXHrkMcqf"
      }
    },
    {
      "cell_type": "code",
      "source": [
        "os.path.abspath('.')"
      ],
      "metadata": {
        "colab": {
          "base_uri": "https://localhost:8080/",
          "height": 35
        },
        "id": "6WLgiO2HNeDa",
        "outputId": "1eb78fd2-96f9-4983-c657-fbf3c3b6d200"
      },
      "execution_count": 58,
      "outputs": [
        {
          "output_type": "execute_result",
          "data": {
            "application/vnd.google.colaboratory.intrinsic+json": {
              "type": "string"
            },
            "text/plain": [
              "'/content/sample_data'"
            ]
          },
          "metadata": {},
          "execution_count": 58
        }
      ]
    },
    {
      "cell_type": "code",
      "source": [
        "os.path.abspath('./Scripts')"
      ],
      "metadata": {
        "colab": {
          "base_uri": "https://localhost:8080/",
          "height": 35
        },
        "id": "QyomFzY2NiAN",
        "outputId": "7bb8a6e8-4c1d-4359-a7ab-7a004670f5ff"
      },
      "execution_count": 59,
      "outputs": [
        {
          "output_type": "execute_result",
          "data": {
            "application/vnd.google.colaboratory.intrinsic+json": {
              "type": "string"
            },
            "text/plain": [
              "'/content/sample_data/Scripts'"
            ]
          },
          "metadata": {},
          "execution_count": 59
        }
      ]
    },
    {
      "cell_type": "code",
      "source": [
        "os.path.isabs('.')"
      ],
      "metadata": {
        "colab": {
          "base_uri": "https://localhost:8080/"
        },
        "id": "Sk2eZAh-NkqO",
        "outputId": "d7c6d2b7-5cdd-4bdc-bf5a-fec2d6a5552a"
      },
      "execution_count": 60,
      "outputs": [
        {
          "output_type": "execute_result",
          "data": {
            "text/plain": [
              "False"
            ]
          },
          "metadata": {},
          "execution_count": 60
        }
      ]
    },
    {
      "cell_type": "code",
      "source": [
        "os.path.isabs(os.path.abspath('.'))"
      ],
      "metadata": {
        "colab": {
          "base_uri": "https://localhost:8080/"
        },
        "id": "f7dVJiPLNnlz",
        "outputId": "448a22cf-6027-42b3-fd9a-04900733619e"
      },
      "execution_count": 61,
      "outputs": [
        {
          "output_type": "execute_result",
          "data": {
            "text/plain": [
              "True"
            ]
          },
          "metadata": {},
          "execution_count": 61
        }
      ]
    },
    {
      "cell_type": "code",
      "source": [
        "os.path.relpath('/content/Python', '/content/sample_data')"
      ],
      "metadata": {
        "colab": {
          "base_uri": "https://localhost:8080/",
          "height": 35
        },
        "id": "ThbDiGj7PZ_8",
        "outputId": "3316d25a-1f16-477f-f92e-68cb90276bbc"
      },
      "execution_count": 62,
      "outputs": [
        {
          "output_type": "execute_result",
          "data": {
            "application/vnd.google.colaboratory.intrinsic+json": {
              "type": "string"
            },
            "text/plain": [
              "'../Python'"
            ]
          },
          "metadata": {},
          "execution_count": 62
        }
      ]
    },
    {
      "cell_type": "code",
      "source": [
        "os.path.relpath('/content/Python', '/content/python/Books/Notes')"
      ],
      "metadata": {
        "colab": {
          "base_uri": "https://localhost:8080/",
          "height": 35
        },
        "id": "K25yYlI5Pd4Q",
        "outputId": "4170e7d5-c695-4302-8b9e-4c4195141f9e"
      },
      "execution_count": 64,
      "outputs": [
        {
          "output_type": "execute_result",
          "data": {
            "application/vnd.google.colaboratory.intrinsic+json": {
              "type": "string"
            },
            "text/plain": [
              "'../../../Python'"
            ]
          },
          "metadata": {},
          "execution_count": 64
        }
      ]
    },
    {
      "cell_type": "code",
      "source": [
        "os.getcwd()"
      ],
      "metadata": {
        "colab": {
          "base_uri": "https://localhost:8080/",
          "height": 35
        },
        "id": "Mi9R8RKtPhc3",
        "outputId": "65cccd1f-2ba8-45ea-dbc7-6b31d9b4cf96"
      },
      "execution_count": 65,
      "outputs": [
        {
          "output_type": "execute_result",
          "data": {
            "application/vnd.google.colaboratory.intrinsic+json": {
              "type": "string"
            },
            "text/plain": [
              "'/content/sample_data'"
            ]
          },
          "metadata": {},
          "execution_count": 65
        }
      ]
    },
    {
      "cell_type": "code",
      "source": [
        "path = '/content/Python/a.txt'\n",
        "os.path.basename(path)"
      ],
      "metadata": {
        "colab": {
          "base_uri": "https://localhost:8080/",
          "height": 35
        },
        "id": "Oe_LqaSIQSl0",
        "outputId": "bed5adfe-7347-40d6-c73b-069a8fd9b751"
      },
      "execution_count": 66,
      "outputs": [
        {
          "output_type": "execute_result",
          "data": {
            "application/vnd.google.colaboratory.intrinsic+json": {
              "type": "string"
            },
            "text/plain": [
              "'a.txt'"
            ]
          },
          "metadata": {},
          "execution_count": 66
        }
      ]
    },
    {
      "cell_type": "code",
      "source": [
        "os.path.dirname(path)"
      ],
      "metadata": {
        "colab": {
          "base_uri": "https://localhost:8080/",
          "height": 35
        },
        "id": "s5tSe9IPQsFx",
        "outputId": "95cd98a5-9720-4c60-adb5-84650e6ea4e1"
      },
      "execution_count": 67,
      "outputs": [
        {
          "output_type": "execute_result",
          "data": {
            "application/vnd.google.colaboratory.intrinsic+json": {
              "type": "string"
            },
            "text/plain": [
              "'/content/Python'"
            ]
          },
          "metadata": {},
          "execution_count": 67
        }
      ]
    },
    {
      "cell_type": "code",
      "source": [
        "calcFilePath = '/content/E:/Python/a.txt'\n",
        "os.path.split(calcFilePath)"
      ],
      "metadata": {
        "colab": {
          "base_uri": "https://localhost:8080/"
        },
        "id": "oIh5oZsIYpyQ",
        "outputId": "063f0999-2a1c-4cd4-8c96-8df8d91b5c0d"
      },
      "execution_count": 68,
      "outputs": [
        {
          "output_type": "execute_result",
          "data": {
            "text/plain": [
              "('/content/E:/Python', 'a.txt')"
            ]
          },
          "metadata": {},
          "execution_count": 68
        }
      ]
    },
    {
      "cell_type": "code",
      "source": [
        "(os.path.dirname(calcFilePath), os.path.basename(calcFilePath))"
      ],
      "metadata": {
        "colab": {
          "base_uri": "https://localhost:8080/"
        },
        "id": "GYIhxTvzZRQv",
        "outputId": "c1418e7e-49fa-408e-9651-0b51fb7609e5"
      },
      "execution_count": 69,
      "outputs": [
        {
          "output_type": "execute_result",
          "data": {
            "text/plain": [
              "('/content/E:/Python', 'a.txt')"
            ]
          },
          "metadata": {},
          "execution_count": 69
        }
      ]
    },
    {
      "cell_type": "code",
      "source": [
        "calcFilePath.split(os.path.sep)"
      ],
      "metadata": {
        "colab": {
          "base_uri": "https://localhost:8080/"
        },
        "id": "m-3F_OenZgca",
        "outputId": "6c43e174-53b8-4f65-a51b-aa7cb97d684c"
      },
      "execution_count": 70,
      "outputs": [
        {
          "output_type": "execute_result",
          "data": {
            "text/plain": [
              "['', 'content', 'E:', 'Python', 'a.txt']"
            ]
          },
          "metadata": {},
          "execution_count": 70
        }
      ]
    },
    {
      "cell_type": "code",
      "source": [
        "'/usr/bin'.split(os.path.sep)"
      ],
      "metadata": {
        "colab": {
          "base_uri": "https://localhost:8080/"
        },
        "id": "d0vxKfr_ZmGJ",
        "outputId": "3da9d3ce-423b-4deb-f299-73a92d80cdc1"
      },
      "execution_count": 71,
      "outputs": [
        {
          "output_type": "execute_result",
          "data": {
            "text/plain": [
              "['', 'usr', 'bin']"
            ]
          },
          "metadata": {},
          "execution_count": 71
        }
      ]
    },
    {
      "cell_type": "markdown",
      "source": [
        "## **Finding File Sizes and Folder Contents**"
      ],
      "metadata": {
        "id": "L5o4AgssaAUO"
      }
    },
    {
      "cell_type": "code",
      "source": [
        "myfile=open('a.txt','x')"
      ],
      "metadata": {
        "id": "3l9GDpYFs53F"
      },
      "execution_count": 73,
      "outputs": []
    },
    {
      "cell_type": "code",
      "source": [
        "os.path.getsize('/content/python/Books/Notes/a.txt')"
      ],
      "metadata": {
        "id": "6OCkhuFR66Bn",
        "colab": {
          "base_uri": "https://localhost:8080/"
        },
        "outputId": "ff7246f6-e8d3-4900-c501-ada36d759250"
      },
      "execution_count": 93,
      "outputs": [
        {
          "output_type": "execute_result",
          "data": {
            "text/plain": [
              "25"
            ]
          },
          "metadata": {},
          "execution_count": 93
        }
      ]
    },
    {
      "cell_type": "code",
      "source": [
        "os.listdir('/content/python')"
      ],
      "metadata": {
        "colab": {
          "base_uri": "https://localhost:8080/"
        },
        "id": "A9UsP9EZhf38",
        "outputId": "a4725e94-348e-4834-ac11-aa048a3874df"
      },
      "execution_count": 94,
      "outputs": [
        {
          "output_type": "execute_result",
          "data": {
            "text/plain": [
              "['Books']"
            ]
          },
          "metadata": {},
          "execution_count": 94
        }
      ]
    },
    {
      "cell_type": "markdown",
      "source": [
        "### **Checking Path Validity**"
      ],
      "metadata": {
        "id": "exfy9rIohlNw"
      }
    },
    {
      "cell_type": "code",
      "source": [
        "os.path.exists('/content/python')"
      ],
      "metadata": {
        "colab": {
          "base_uri": "https://localhost:8080/"
        },
        "id": "lICHf6O9hoid",
        "outputId": "5d3b2a38-dac3-4fdd-d1be-30041be16e3e"
      },
      "execution_count": 95,
      "outputs": [
        {
          "output_type": "execute_result",
          "data": {
            "text/plain": [
              "True"
            ]
          },
          "metadata": {},
          "execution_count": 95
        }
      ]
    },
    {
      "cell_type": "code",
      "source": [
        "os.path.exists('/content/Python/some_made_up_folder')"
      ],
      "metadata": {
        "colab": {
          "base_uri": "https://localhost:8080/"
        },
        "id": "4dOTBMr8hwtK",
        "outputId": "99b98dc3-2aca-460d-8138-9bd393bbd320"
      },
      "execution_count": 96,
      "outputs": [
        {
          "output_type": "execute_result",
          "data": {
            "text/plain": [
              "False"
            ]
          },
          "metadata": {},
          "execution_count": 96
        }
      ]
    },
    {
      "cell_type": "code",
      "source": [
        "os.path.isdir('/content/Python')"
      ],
      "metadata": {
        "colab": {
          "base_uri": "https://localhost:8080/"
        },
        "id": "PdnI-yxsh0Ie",
        "outputId": "937bc2f6-adca-4dcc-f3f5-b65425a9a043"
      },
      "execution_count": 97,
      "outputs": [
        {
          "output_type": "execute_result",
          "data": {
            "text/plain": [
              "False"
            ]
          },
          "metadata": {},
          "execution_count": 97
        }
      ]
    },
    {
      "cell_type": "code",
      "source": [
        "os.path.isfile('/content/Python')"
      ],
      "metadata": {
        "colab": {
          "base_uri": "https://localhost:8080/"
        },
        "id": "ASTHr8ZjiBAi",
        "outputId": "90e812e8-5672-4ac2-96cf-7c463416969c"
      },
      "execution_count": 98,
      "outputs": [
        {
          "output_type": "execute_result",
          "data": {
            "text/plain": [
              "False"
            ]
          },
          "metadata": {},
          "execution_count": 98
        }
      ]
    },
    {
      "cell_type": "code",
      "source": [
        "os.path.isdir('/content/python/Books/Notes/a.txt')"
      ],
      "metadata": {
        "colab": {
          "base_uri": "https://localhost:8080/"
        },
        "id": "MBQqkPqriNUK",
        "outputId": "444b109f-3477-41e6-90c4-9dc7ac779d21"
      },
      "execution_count": 99,
      "outputs": [
        {
          "output_type": "execute_result",
          "data": {
            "text/plain": [
              "False"
            ]
          },
          "metadata": {},
          "execution_count": 99
        }
      ]
    },
    {
      "cell_type": "code",
      "source": [
        "os.path.isfile('/content/python/Books/Notes/a.txt')"
      ],
      "metadata": {
        "colab": {
          "base_uri": "https://localhost:8080/"
        },
        "id": "1ClmyHHciNuJ",
        "outputId": "03f3f12f-98ed-4bae-f969-882ae9de66b2"
      },
      "execution_count": 100,
      "outputs": [
        {
          "output_type": "execute_result",
          "data": {
            "text/plain": [
              "True"
            ]
          },
          "metadata": {},
          "execution_count": 100
        }
      ]
    },
    {
      "cell_type": "code",
      "source": [
        "os.path.exists('D:\\\\')"
      ],
      "metadata": {
        "colab": {
          "base_uri": "https://localhost:8080/"
        },
        "id": "uELcAeBfibgB",
        "outputId": "e379c198-459d-4781-babb-07a4eb6fe9c2"
      },
      "execution_count": 101,
      "outputs": [
        {
          "output_type": "execute_result",
          "data": {
            "text/plain": [
              "False"
            ]
          },
          "metadata": {},
          "execution_count": 101
        }
      ]
    },
    {
      "cell_type": "markdown",
      "source": [
        "### **The File Reading/Writing Process**"
      ],
      "metadata": {
        "id": "xFrfHwslir-x"
      }
    },
    {
      "cell_type": "markdown",
      "source": [
        "There are three steps to reading or writing files in Python.\n",
        "1. Call the open() function to return a File object.\n",
        "2. Call the read() or write() method on the File object.\n",
        "3. Close the file by calling the close() method on the File object. **bold text**"
      ],
      "metadata": {
        "id": "UckfZhmAiy_-"
      }
    },
    {
      "cell_type": "markdown",
      "source": [
        "### **Opening Files with the open() Function**"
      ],
      "metadata": {
        "id": "ZsCghIoFi2ZJ"
      }
    },
    {
      "cell_type": "code",
      "source": [
        "helloFile = open('/content/python/Books/Notes/a.txt')"
      ],
      "metadata": {
        "id": "bQY0Lu9Si8--"
      },
      "execution_count": 102,
      "outputs": []
    },
    {
      "cell_type": "markdown",
      "source": [
        "### **Reading the Contents of Files**"
      ],
      "metadata": {
        "id": "Po1ON5d6joiM"
      }
    },
    {
      "cell_type": "code",
      "source": [
        "helloContent = helloFile.read()\n",
        "helloContent"
      ],
      "metadata": {
        "colab": {
          "base_uri": "https://localhost:8080/",
          "height": 35
        },
        "id": "qbBkqe-Qjsng",
        "outputId": "803c594d-78f8-433c-ee23-4653f44a5f06"
      },
      "execution_count": 103,
      "outputs": [
        {
          "output_type": "execute_result",
          "data": {
            "application/vnd.google.colaboratory.intrinsic+json": {
              "type": "string"
            },
            "text/plain": [
              "'Hello!\\nI am Abdul Wasay!'"
            ]
          },
          "metadata": {},
          "execution_count": 103
        }
      ]
    },
    {
      "cell_type": "code",
      "source": [
        "myfile=open('sonnet29.txt','x')"
      ],
      "metadata": {
        "id": "Ocj6VfCVvT-h"
      },
      "execution_count": 104,
      "outputs": []
    },
    {
      "cell_type": "code",
      "source": [
        "sonnetFile = open('/content/python/Books/Notes/sonnet29.txt')"
      ],
      "metadata": {
        "id": "K-PqWui_vodA"
      },
      "execution_count": 108,
      "outputs": []
    },
    {
      "cell_type": "code",
      "source": [
        "sonnetFile.readlines()"
      ],
      "metadata": {
        "colab": {
          "base_uri": "https://localhost:8080/"
        },
        "id": "Le78byFsj2nv",
        "outputId": "daa1a890-22c2-4700-e3d3-ed8581d01b4e"
      },
      "execution_count": 109,
      "outputs": [
        {
          "output_type": "execute_result",
          "data": {
            "text/plain": [
              "[\"When, in disgrace with fortune and men's eyes,\\n\",\n",
              " 'I all alone beweep my outcast state,\\n',\n",
              " 'And trouble deaf heaven with my bootless cries,\\n',\n",
              " 'And look upon myself and curse my fate,']"
            ]
          },
          "metadata": {},
          "execution_count": 109
        }
      ]
    },
    {
      "cell_type": "markdown",
      "source": [
        "### **Writing to Files**"
      ],
      "metadata": {
        "id": "OoKdFi6ywCxz"
      }
    },
    {
      "cell_type": "code",
      "source": [
        "baconFile = open('bacon.txt', 'w')\n",
        "baconFile.write('Hello world!\\n')"
      ],
      "metadata": {
        "colab": {
          "base_uri": "https://localhost:8080/"
        },
        "id": "CkfMXOkZwUs4",
        "outputId": "15c42e53-e3ab-47ac-aa12-18fcb383d19b"
      },
      "execution_count": 110,
      "outputs": [
        {
          "output_type": "execute_result",
          "data": {
            "text/plain": [
              "13"
            ]
          },
          "metadata": {},
          "execution_count": 110
        }
      ]
    },
    {
      "cell_type": "code",
      "source": [
        "baconFile.close()\n",
        "baconFile = open('bacon.txt', 'a')\n",
        "baconFile.write('Bacon is not a vegetable.')"
      ],
      "metadata": {
        "colab": {
          "base_uri": "https://localhost:8080/"
        },
        "id": "xvY9PiH6wYRm",
        "outputId": "43d07dc7-0a04-436f-fafe-e2c0048dbe59"
      },
      "execution_count": 111,
      "outputs": [
        {
          "output_type": "execute_result",
          "data": {
            "text/plain": [
              "25"
            ]
          },
          "metadata": {},
          "execution_count": 111
        }
      ]
    },
    {
      "cell_type": "code",
      "source": [
        "baconFile.close()\n",
        "baconFile = open('bacon.txt')\n",
        "content = baconFile.read()\n",
        "baconFile.close()\n",
        "print(content)"
      ],
      "metadata": {
        "colab": {
          "base_uri": "https://localhost:8080/"
        },
        "id": "VzPLDihnwdHF",
        "outputId": "c2e582f6-43e0-437a-d418-c733db0c230f"
      },
      "execution_count": 112,
      "outputs": [
        {
          "output_type": "stream",
          "name": "stdout",
          "text": [
            "Hello world!\n",
            "Bacon is not a vegetable.\n"
          ]
        }
      ]
    },
    {
      "cell_type": "markdown",
      "source": [
        "### **Saving Variables with the shelve Module**"
      ],
      "metadata": {
        "id": "4ft0YhLNwtE6"
      }
    },
    {
      "cell_type": "code",
      "source": [
        "import shelve\n",
        "shelfFile = shelve.open('mydata')\n",
        "cats = ['Zophie', 'Pooka', 'Simon']\n",
        "shelfFile['cats'] = cats\n",
        "shelfFile.close()"
      ],
      "metadata": {
        "id": "pV6LF5VrwwGZ"
      },
      "execution_count": 113,
      "outputs": []
    },
    {
      "cell_type": "code",
      "source": [
        "shelfFile = shelve.open('mydata')\n",
        "type(shelfFile)"
      ],
      "metadata": {
        "colab": {
          "base_uri": "https://localhost:8080/"
        },
        "id": "0QSzKqO4xB0K",
        "outputId": "6a904fe8-550a-41cf-c314-8ab784d7b038"
      },
      "execution_count": 114,
      "outputs": [
        {
          "output_type": "execute_result",
          "data": {
            "text/plain": [
              "shelve.DbfilenameShelf"
            ]
          },
          "metadata": {},
          "execution_count": 114
        }
      ]
    },
    {
      "cell_type": "code",
      "source": [
        "shelfFile['cats']"
      ],
      "metadata": {
        "colab": {
          "base_uri": "https://localhost:8080/"
        },
        "id": "eOI6FFtvxGLs",
        "outputId": "281fc514-2a14-4fe4-c050-d131ded3f9ac"
      },
      "execution_count": 115,
      "outputs": [
        {
          "output_type": "execute_result",
          "data": {
            "text/plain": [
              "['Zophie', 'Pooka', 'Simon']"
            ]
          },
          "metadata": {},
          "execution_count": 115
        }
      ]
    },
    {
      "cell_type": "code",
      "source": [
        "shelfFile.close()"
      ],
      "metadata": {
        "id": "-dkfd8LNxKQD"
      },
      "execution_count": 116,
      "outputs": []
    },
    {
      "cell_type": "code",
      "source": [
        "shelfFile = shelve.open('mydata')\n",
        "list(shelfFile.keys())"
      ],
      "metadata": {
        "colab": {
          "base_uri": "https://localhost:8080/"
        },
        "id": "ZYSx-D5exNUA",
        "outputId": "c674cb76-04b3-4adc-c05f-6de2bd7abfed"
      },
      "execution_count": 117,
      "outputs": [
        {
          "output_type": "execute_result",
          "data": {
            "text/plain": [
              "['cats']"
            ]
          },
          "metadata": {},
          "execution_count": 117
        }
      ]
    },
    {
      "cell_type": "code",
      "source": [
        "list(shelfFile.values())"
      ],
      "metadata": {
        "colab": {
          "base_uri": "https://localhost:8080/"
        },
        "id": "IPPeKHh-xQ6w",
        "outputId": "9ad5e7f6-9c3b-433d-8273-7405830e650e"
      },
      "execution_count": 118,
      "outputs": [
        {
          "output_type": "execute_result",
          "data": {
            "text/plain": [
              "[['Zophie', 'Pooka', 'Simon']]"
            ]
          },
          "metadata": {},
          "execution_count": 118
        }
      ]
    },
    {
      "cell_type": "code",
      "source": [
        "shelfFile.close()"
      ],
      "metadata": {
        "id": "8spJjraLxTHF"
      },
      "execution_count": 119,
      "outputs": []
    },
    {
      "cell_type": "markdown",
      "source": [
        "### **Saving Variables with the pprint.pformat() Function**"
      ],
      "metadata": {
        "id": "gFe0bATbxXI1"
      }
    },
    {
      "cell_type": "code",
      "source": [
        "import pprint\n",
        "cats = [{'name': 'Zophie', 'desc': 'chubby'}, {'name': 'Pooka', 'desc': 'fluffy'}]\n",
        "pprint.pformat(cats)"
      ],
      "metadata": {
        "colab": {
          "base_uri": "https://localhost:8080/",
          "height": 35
        },
        "id": "oBs5cIocxZSd",
        "outputId": "c07d7d05-3fb3-438a-edd6-8822e1686dbe"
      },
      "execution_count": 120,
      "outputs": [
        {
          "output_type": "execute_result",
          "data": {
            "application/vnd.google.colaboratory.intrinsic+json": {
              "type": "string"
            },
            "text/plain": [
              "\"[{'desc': 'chubby', 'name': 'Zophie'}, {'desc': 'fluffy', 'name': 'Pooka'}]\""
            ]
          },
          "metadata": {},
          "execution_count": 120
        }
      ]
    },
    {
      "cell_type": "code",
      "source": [
        "fileObj = open('myCats.py', 'w')\n",
        "fileObj.write('cats = ' + pprint.pformat(cats) + '\\n')"
      ],
      "metadata": {
        "colab": {
          "base_uri": "https://localhost:8080/"
        },
        "id": "xJJ2Zr5Kxf2Q",
        "outputId": "5b5f996b-e818-4986-cc9a-7756ea1b8325"
      },
      "execution_count": 121,
      "outputs": [
        {
          "output_type": "execute_result",
          "data": {
            "text/plain": [
              "83"
            ]
          },
          "metadata": {},
          "execution_count": 121
        }
      ]
    },
    {
      "cell_type": "code",
      "source": [
        "fileObj.close()"
      ],
      "metadata": {
        "id": "rWM9S0TRxiTj"
      },
      "execution_count": 122,
      "outputs": []
    },
    {
      "cell_type": "code",
      "source": [
        "import myCats\n",
        "myCats.cats"
      ],
      "metadata": {
        "colab": {
          "base_uri": "https://localhost:8080/"
        },
        "id": "TW065odExnDn",
        "outputId": "c03245ad-0f05-4a04-9d0d-78e45d52b0b3"
      },
      "execution_count": 123,
      "outputs": [
        {
          "output_type": "execute_result",
          "data": {
            "text/plain": [
              "[{'desc': 'chubby', 'name': 'Zophie'}, {'desc': 'fluffy', 'name': 'Pooka'}]"
            ]
          },
          "metadata": {},
          "execution_count": 123
        }
      ]
    },
    {
      "cell_type": "code",
      "source": [
        "myCats.cats[0]"
      ],
      "metadata": {
        "colab": {
          "base_uri": "https://localhost:8080/"
        },
        "id": "d59mfqxHxrXD",
        "outputId": "870c179b-cd0b-4bf9-9c25-00691a9f7343"
      },
      "execution_count": 124,
      "outputs": [
        {
          "output_type": "execute_result",
          "data": {
            "text/plain": [
              "{'desc': 'chubby', 'name': 'Zophie'}"
            ]
          },
          "metadata": {},
          "execution_count": 124
        }
      ]
    },
    {
      "cell_type": "code",
      "source": [
        "myCats.cats[0]['name']"
      ],
      "metadata": {
        "colab": {
          "base_uri": "https://localhost:8080/",
          "height": 35
        },
        "id": "EstGdWJMxtiQ",
        "outputId": "69e1ce42-82d5-4962-a377-8b9757a39659"
      },
      "execution_count": 125,
      "outputs": [
        {
          "output_type": "execute_result",
          "data": {
            "application/vnd.google.colaboratory.intrinsic+json": {
              "type": "string"
            },
            "text/plain": [
              "'Zophie'"
            ]
          },
          "metadata": {},
          "execution_count": 125
        }
      ]
    }
  ]
}